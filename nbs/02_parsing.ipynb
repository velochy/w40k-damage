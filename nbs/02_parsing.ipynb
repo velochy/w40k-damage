{
 "cells": [
  {
   "cell_type": "markdown",
   "metadata": {},
   "source": [
    "# Read in unit info"
   ]
  },
  {
   "cell_type": "code",
   "execution_count": 1,
   "metadata": {},
   "outputs": [],
   "source": [
    "#| default_exp parsing"
   ]
  },
  {
   "cell_type": "code",
   "execution_count": 2,
   "metadata": {},
   "outputs": [],
   "source": [
    "#| exporti\n",
    "import pandas as pd\n",
    "import re"
   ]
  },
  {
   "cell_type": "code",
   "execution_count": 3,
   "metadata": {},
   "outputs": [],
   "source": [
    "#| exporti\n",
    "\n",
    "def wargear_to_weapon(wg):\n",
    "    return {\n",
    "        'name': wg['name'],\n",
    "        'type': wg['type'].lower(),\n",
    "        'range': wg['range'],\n",
    "        'attacks': wg['A'], \n",
    "        'bsws': int(str(wg['BS_WS']).strip('+')) if str(wg['BS_WS'])!='nan' else 0,\n",
    "        'strength': int(wg['S']) if 'D' not in wg['S'] else 7, # TODO: Hack for now as it is 2D6 twice and 6+D6 once\n",
    "        'AP': int(wg['AP']), \n",
    "        'damage': wg['D'],\n",
    "        'kws': [ kw.strip() for kw in re.split(r',|\\.',str(wg['description']))],\n",
    "        'simplified': 'D' in str(wg['S']) # Warn if something here was simplified \n",
    "    }\n",
    "\n",
    "def model_to_target(m):\n",
    "    return { 'name': m['name'], 'toughness': int(m['T'].strip('*')), \n",
    "            'save': int(m['Sv'].strip('+')), \n",
    "            'invuln': int(m['inv_sv'].strip('*')) if str(m['inv_sv'])!='-' else None, \n",
    "            'wounds': int(m['W']),\n",
    "            'simplified': '*' in m['inv_sv'] or '*' in m['T'] # Warn if something here was simplified \n",
    "    }"
   ]
  },
  {
   "cell_type": "code",
   "execution_count": 4,
   "metadata": {},
   "outputs": [],
   "source": [
    "#| export\n",
    "\n",
    "def csv_files_to_dict(csv_dir):\n",
    "    files = ['Factions','Datasheets','Datasheets_abilities','Datasheets_keywords','Datasheets_models','Datasheets_wargear','Datasheets_unit_composition','Datasheets_models_cost','Abilities','Last_update']\n",
    "    dfs = {}\n",
    "    for f in files:\n",
    "        dfs[f] = pd.read_csv(csv_dir+'/'+f+'.csv',sep='|')\n",
    "\n",
    "    # Remove link tags from wargear and ability descriptions\n",
    "    dfs['Datasheets_wargear']['description'] = dfs['Datasheets_wargear']['description'].str.replace('<[^>]*>','',regex=True).str.lower()\n",
    "    dfs['Datasheets_abilities']['description'] = dfs['Datasheets_abilities']['description'].str.replace('<[^>]*>','',regex=True)\n",
    "\n",
    "    # Take some more popular abilities and map them to names\n",
    "    dmap = {\n",
    "        'Each time an attack is allocated to this model, subtract 1 from the Damage characteristic of that attack.': 'damage reduction 1',\n",
    "        'The bearer’s unit has the Feel No Pain 6+ ability.': 'feel no pain 6+',\n",
    "        'While this model is leading a unit, models in that unit have the Feel No Pain 5+ ability.': 'feel no pain 5+',\n",
    "        'Each time an attack is allocated to this model, halve the Damage characteristic of that attack.': 'halve damage',\n",
    "            \n",
    "        'Each time this model makes an attack that targets an enemy unit, re-roll a Hit roll of 1 and, if that unit is within range of an objective marker you do not control, you can re-roll the Hit roll instead.': 'reroll 1s to hit',\n",
    "        'While this model is leading a unit, each time a model in that unit makes an attack, add 1 to the Hit roll.': 'improved hits 1',\n",
    "        'While this model is leading a unit, weapons equipped by models in that unit have the [LETHAL HITS] ability.': 'lethal hits',\n",
    "        'Ranged weapons equipped by models in the bearer’s unit have the [IGNORES COVER] ability.': 'ignores cover',\n",
    "        'While this model is leading a unit, weapons equipped by models in that unit have the [SUSTAINED HITS 1] ability.': 'sustained hits 1'\n",
    "    }\n",
    "    df = dfs['Datasheets_abilities']\n",
    "    df.loc[df['description'].isin(dmap),'name'] = df.loc[df['description'].isin(dmap),'description'].replace(dmap)\n",
    "\n",
    "    # Add model counts to datasheets \n",
    "    # This is very rough but is a lot better than nothing\n",
    "    df = dfs['Datasheets_models_cost']\n",
    "    splitcol = df['description'].str.split(' |-',expand=True,regex=True)\n",
    "    df.loc[~splitcol[2].isna() | ~splitcol[1].isin(['model','models','-']),'description'] = '1 model'\n",
    "    df['count']=df['description'].str.split(' ',expand=True)[0].astype('int')\n",
    "    dfs['Datasheets'] = dfs['Datasheets'].merge(df.groupby('datasheet_id')['count'].min(),left_on='id',right_on='datasheet_id')\n",
    "\n",
    "    # Simplify abilities down to a dict of lists\n",
    "    ability_dict = pd.Series(dfs['Abilities']['name'].values,index=dfs['Abilities']['id']).to_dict()\n",
    "    df = dfs['Datasheets_abilities']\n",
    "    df.loc[~df['ability_id'].isna(),'name'] = df.loc[~df['ability_id'].isna(),'ability_id'].replace(ability_dict)\n",
    "    df.loc[~df['parameter'].isna(),'name'] += ' ' + df.loc[~df['parameter'].isna(),'parameter']\n",
    "    df['name'] = df['name'].str.lower()\n",
    "    abilities = df.groupby('datasheet_id')['name'].apply(list)\n",
    "\n",
    "    df = dfs['Datasheets_keywords']\n",
    "    df['keyword'] = df['keyword'].str.lower()\n",
    "    keywords = df.groupby('datasheet_id')['keyword'].apply(list)\n",
    "\n",
    "    rd = {}\n",
    "\n",
    "    dsgb = dfs['Datasheets'].groupby('faction_id')\n",
    "    dsmgb = dfs['Datasheets_models'].groupby('datasheet_id')\n",
    "    dswggb = dfs['Datasheets_wargear'].groupby('datasheet_id')\n",
    "    for i, f in dfs['Factions'].iterrows():\n",
    "\n",
    "        dsl = { ds['name']:{ 'name': ds['name'], 'id': ds['id'], 'model_count':ds['count'] } for _,ds in dsgb.get_group(f['id']).iterrows() }\n",
    "        rd[f['name']] = dsl\n",
    "\n",
    "        for ds in dsl.values():\n",
    "            if ds['id'] not in dswggb.groups: continue\n",
    "            ds['weapons'] = list(dswggb.get_group(ds['id']).apply(wargear_to_weapon,axis=1))\n",
    "\n",
    "            if ds['id'] not in dsmgb.groups: continue\n",
    "            ds['models'] = list(dsmgb.get_group(ds['id']).apply(model_to_target,axis=1))\n",
    "\n",
    "            ds['abilities'] = abilities[ds['id']]\n",
    "            ds['kws'] = keywords[ds['id']]\n",
    "\n",
    "    return rd\n",
    "            "
   ]
  },
  {
   "cell_type": "code",
   "execution_count": null,
   "metadata": {},
   "outputs": [],
   "source": []
  },
  {
   "cell_type": "code",
   "execution_count": null,
   "metadata": {},
   "outputs": [],
   "source": [
    "#| hide\n",
    "import nbdev; nbdev.nbdev_export()"
   ]
  }
 ],
 "metadata": {
  "kernelspec": {
   "display_name": "salk",
   "language": "python",
   "name": "python3"
  },
  "language_info": {
   "codemirror_mode": {
    "name": "ipython",
    "version": 3
   },
   "file_extension": ".py",
   "mimetype": "text/x-python",
   "name": "python",
   "nbconvert_exporter": "python",
   "pygments_lexer": "ipython3",
   "version": "3.12.2"
  }
 },
 "nbformat": 4,
 "nbformat_minor": 2
}
