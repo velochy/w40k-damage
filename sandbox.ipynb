{
 "cells": [
  {
   "cell_type": "code",
   "execution_count": 1,
   "metadata": {},
   "outputs": [],
   "source": [
    "import numpy\n",
    "from collections import defaultdict\n",
    "from math import ceil, floor, comb"
   ]
  },
  {
   "cell_type": "code",
   "execution_count": 2,
   "metadata": {},
   "outputs": [],
   "source": [
    "wep = { 'attacks': '3', 'bsws': 3, 'strength': 5, 'AP': -2, 'damage': '2', 'lh':True, 'dw':True, 'sus':2 }\n",
    "target = { 'toughness': 3, 'save': 2, 'invuln': 4, 'wounds': 3, 'fnp': 5 }"
   ]
  },
  {
   "cell_type": "code",
   "execution_count": 42,
   "metadata": {},
   "outputs": [],
   "source": [
    "# Helper functions for damage distributions\n",
    "\n",
    "def convolve(d1,d2, n_wounds=None):\n",
    "    res = defaultdict(lambda: 0)\n",
    "    if n_wounds is None:\n",
    "        for k1,v1 in d1.items():\n",
    "            for k2,v2 in d2.items():\n",
    "                res[k1+k2] += v1*v2\n",
    "    else: # Limit damage to n_wounds units\n",
    "        for k1,v1 in d1.items():\n",
    "            for k2,v2 in d2.items():\n",
    "                k1m, k2m = k1%n_wounds, k2%n_wounds\n",
    "                if k1m + k2m > n_wounds: res[k1+k2-(k1m+k2m)%n_wounds] += v1*v2\n",
    "                else: res[k1+k2] += v1*v2\n",
    "    return res\n",
    "\n",
    "def mult_ddist_vals(d, val):\n",
    "    res = defaultdict(lambda: 0)\n",
    "    for k1,v1 in d.items():\n",
    "        res[int(ceil(k1*val))] += v1 \n",
    "    return res\n",
    "\n",
    "def mult_ddist_probs(d,p):\n",
    "    return { k:v*p for k,v in d.items() }\n",
    "\n",
    "def threshold_ddist(dd,val,lt=True):\n",
    "    for k in list(dd.keys()): \n",
    "        if (lt and k<val) or (not lt and k>val): \n",
    "            dd[val]+=dd[k]\n",
    "            del dd[k]\n",
    "\n",
    "def add_ddist(d1,d2):\n",
    "    res = defaultdict(lambda: 0)\n",
    "    for k1,v1 in d1.items():\n",
    "        res[k1] += v1  \n",
    "    for k2,v2 in d2.items():\n",
    "        res[k2] += v2 \n",
    "    return res\n",
    "    \n",
    "def flatdist(n):\n",
    "    return { (i+1):1/n for i in range(n) }\n",
    "\n",
    "# q is the probability of saving the damage\n",
    "def fnp_transform(d, q):\n",
    "    p = 1.0-q\n",
    "    res = defaultdict(lambda: 0)\n",
    "    for k,v in d.items():\n",
    "        for i in range(k+1): # Binomial distribution\n",
    "            res[i] += v*comb(k,i)*(p**i)*(q**(k-i))\n",
    "    return res\n",
    "\n",
    "def dd_mean(dd):\n",
    "    val = 0.0\n",
    "    for k, v in dd.items():\n",
    "        val += k*v\n",
    "    return val\n",
    "\n",
    "def dd_max(dd):\n",
    "    return max(dd.keys())\n",
    "\n",
    "def dd_psum(dd):\n",
    "    return sum(dd.values())\n"
   ]
  },
  {
   "cell_type": "code",
   "execution_count": 4,
   "metadata": {},
   "outputs": [],
   "source": [
    "def dd_from_str(dstr):\n",
    "    dd = { 0: 1.0 }\n",
    "    for t in dstr.split('+'):\n",
    "        if 'D' in t:\n",
    "            d = t.split('D')\n",
    "            if d[0]=='': d = [1,int(d[1])]\n",
    "            else: d = list(map(int,d))\n",
    "            for _ in range(d[0]):\n",
    "                nd = flatdist(d[1])\n",
    "                dd = convolve(dd,nd)\n",
    "        else:\n",
    "            d = int(t)\n",
    "            dd = convolve(dd,{d:1.0})\n",
    "    return dd"
   ]
  },
  {
   "cell_type": "code",
   "execution_count": 28,
   "metadata": {},
   "outputs": [
    {
     "name": "stdout",
     "output_type": "stream",
     "text": [
      "1.2178819444444444\n"
     ]
    },
    {
     "data": {
      "text/plain": [
       "defaultdict(<function __main__.fnp_transform.<locals>.<lambda>()>,\n",
       "            {0: 0.19878472222222224,\n",
       "             1: 0.3845486111111111,\n",
       "             2: 0.4166666666666667})"
      ]
     },
     "execution_count": 28,
     "metadata": {},
     "output_type": "execute_result"
    }
   ],
   "source": [
    "def single_dam_dist(dmgstr, n_wounds=None, div=1,mult=1,add=0,fnp=None):\n",
    "\n",
    "    # Create dmgstr distribution\n",
    "    dd = dd_from_str(dmgstr)\n",
    "\n",
    "    # Apply simple modifiers\n",
    "    if div!=1: dd = mult_ddist_vals(dd,1.0/div)\n",
    "    if mult!=1: dd = mult_ddist_probs(dd,mult)\n",
    "    if add!=0: dd = convolve(dd,{add:1.0})\n",
    "\n",
    "    # Threshold to 1\n",
    "    threshold_ddist(dd,1,True)\n",
    "\n",
    "    # Apply FNP\n",
    "    if fnp: dd = fnp_transform(dd,(7-fnp)/6)\n",
    "\n",
    "    # Threshold to n_wounds\n",
    "    if n_wounds: threshold_ddist(dd,n_wounds,False)\n",
    "\n",
    "    print(dd_mean(dd))\n",
    "\n",
    "    return dd\n",
    "    \n",
    "single_dam_dist('2D6+2',n_wounds=2,div=2, add=-2,fnp=4)#None)"
   ]
  },
  {
   "cell_type": "code",
   "execution_count": 6,
   "metadata": {},
   "outputs": [],
   "source": [
    "def get_hit_probs(wep):\n",
    "    # Prob to hit\n",
    "    if wep.get('torrent'):\n",
    "        p_hcrit, p_hit = 0, 1\n",
    "    else:\n",
    "        hit_crit = 6 # Normally crit on 6+ but can be something else\n",
    "        p_hcrit = (7-hit_crit)/6.0\n",
    "        p_hit = max((6*p_hcrit),min(5, # hit_crit always hits, 1 always misses\n",
    "                    (7-wep['bsws'])))/6.0\n",
    "    return p_hit,p_hcrit"
   ]
  },
  {
   "cell_type": "code",
   "execution_count": 11,
   "metadata": {},
   "outputs": [],
   "source": [
    "def atk_success_prob(wep,target,crit_hit=None, verbose=False):\n",
    "\n",
    "    # TODO:\n",
    "    # Cover / Ignores cover\n",
    "    # Rerolls (1 and all) + fish-for-sixes if better.\n",
    "\n",
    "    # Probs to hit\n",
    "    p_hit, p_hcrit = get_hit_probs(wep)\n",
    "        \n",
    "    # Check if fn parameter already tells us if it was a crit or not\n",
    "    # This behavior is needed for Sustained hits as they also affect hit counts\n",
    "    if crit_hit: p_hcrit,p_hit = 1,1\n",
    "    elif crit_hit==False: p_hcrit,p_hit = 0, 1\n",
    "\n",
    "    if verbose: print(\"Hit\",p_hit,p_hcrit)\n",
    "\n",
    "    # Prob to wound\n",
    "\n",
    "    wound_crit = 6 # Anti-keywords change this\n",
    "    p_wcrit = (7-wound_crit)/6.0\n",
    "\n",
    "    if wep['strength']>target['toughness']:\n",
    "        if wep['strength']>=2*target['toughness']:\n",
    "            p_wound = 5/6.0\n",
    "        else: p_wound = 4/6.0\n",
    "    elif wep['strength']<target['toughness']:\n",
    "        if 2*wep['strength']<=target['toughness']:\n",
    "            p_wound = 1/6.0\n",
    "        else: p_wound = 2/6.0\n",
    "    else: p_wound = 3/6.0\n",
    "\n",
    "    p_wound = max(p_wcrit,p_wound)\n",
    "    \n",
    "    if verbose: print(\"Wound\",p_wound,p_wcrit)\n",
    "\n",
    "    # Prob to not save\n",
    "    save = min(target['invuln'],target['save']-wep['AP'])\n",
    "    p_nsave = 1.0 - max(1,min(6,7-save))/6.0\n",
    "\n",
    "    if wep.get('dw'): # Devastating wounds\n",
    "        p_nsave = ((p_wound-p_wcrit)*p_nsave + p_wcrit)/p_wound\n",
    "\n",
    "    if verbose: print(\"Save\",p_nsave)\n",
    "\n",
    "    # Total probability\n",
    "    if wep.get('lh'):\n",
    "        p_dam = p_hcrit*p_nsave + (p_hit-p_hcrit)*p_wound*p_nsave\n",
    "    else:\n",
    "        p_dam = p_hit*p_wound*p_nsave\n",
    "\n",
    "    if verbose: print(\"Total prob\", p_dam)\n",
    "\n",
    "    return p_dam"
   ]
  },
  {
   "cell_type": "code",
   "execution_count": 25,
   "metadata": {},
   "outputs": [
    {
     "data": {
      "text/plain": [
       "defaultdict(<function __main__.add_ddist.<locals>.<lambda>()>,\n",
       "            {1: 0.2741608796296296,\n",
       "             0: 0.6462673611111112,\n",
       "             3: 0.018084490740740734,\n",
       "             2: 0.06148726851851852})"
      ]
     },
     "execution_count": 25,
     "metadata": {},
     "output_type": "execute_result"
    }
   ],
   "source": [
    "# Wrapper around atk_success_prob that handles sustained hits\n",
    "def atk_success_dist(wep,target):\n",
    "    \n",
    "    # Handle the easy case (no sustained hits)\n",
    "    if not wep.get('sus'):\n",
    "        p = atk_success_prob(wep,target)\n",
    "        return { 1: p, 0: (1-p) }\n",
    "    \n",
    "    # Sustained hits:\n",
    "    \n",
    "    p_hit, p_hcrit = get_hit_probs(wep)\n",
    "    pc, pn = atk_success_prob(wep,target,True), atk_success_prob(wep,target,False)\n",
    "\n",
    "    p = pn*(1-p_hcrit)\n",
    "    dd = { 1: pc, 0: {1-p} }\n",
    "\n",
    "    normal = { 1: pn, 0: (1-pn) }\n",
    "\n",
    "    crit = { 1: pc, 0: (1-pc) }\n",
    "    for _ in range(wep.get('sus')):\n",
    "        crit = convolve(crit,normal)\n",
    "\n",
    "    normal = mult_ddist_probs(normal,p_hit-p_hcrit)\n",
    "    crit = mult_ddist_probs(crit,p_hcrit)\n",
    "\n",
    "    total =  add_ddist(normal, crit)\n",
    "    total[0] += 1.0-p_hit\n",
    "\n",
    "    return total\n",
    "\n",
    "atk_success_dist(wep,target)\n"
   ]
  },
  {
   "cell_type": "code",
   "execution_count": 39,
   "metadata": {},
   "outputs": [],
   "source": [
    "# Create res as weighted sum of repeated convolutions with weights given by b_dd and repeated self-convolutons of r_dd\n",
    "def dd_over_dd(b_dd,r_dd,**argv):\n",
    "    cur_d,res_d = {0: 1}, {0: b_dd.get(0,0.0)}\n",
    "    for i in range(1,dd_max(b_dd)+1):\n",
    "        cur_d = convolve(cur_d,r_dd,**argv)\n",
    "        if i in b_dd:\n",
    "            res_d = add_ddist(res_d,mult_ddist_probs(cur_d,b_dd[i]))\n",
    "    return res_d"
   ]
  },
  {
   "cell_type": "code",
   "execution_count": 40,
   "metadata": {},
   "outputs": [
    {
     "data": {
      "text/plain": [
       "defaultdict(<function __main__.add_ddist.<locals>.<lambda>()>,\n",
       "            {0: 0.2699209967594906,\n",
       "             3: 0.10863300510364438,\n",
       "             2: 0.22277107890686815,\n",
       "             5: 0.01149922904581617,\n",
       "             4: 0.040420313885146164,\n",
       "             1: 0.34351933435811594,\n",
       "             7: 0.0004741072091473397,\n",
       "             6: 0.002695692207539147,\n",
       "             9: 5.914511092157429e-06,\n",
       "             8: 6.03280131400058e-05})"
      ]
     },
     "execution_count": 40,
     "metadata": {},
     "output_type": "execute_result"
    }
   ],
   "source": [
    "def successful_atk_dist(wep,target):\n",
    "\n",
    "    # Attack number dist\n",
    "    an_d = dd_from_str(wep['attacks'])\n",
    "\n",
    "    # Todo: rapid fire X, blast\n",
    "    extra_attacks = 0\n",
    "    if extra_attacks!=0:\n",
    "        an_d = convolve(an_d,{extra_attacks:1})\n",
    "\n",
    "    # Attack successes dist\n",
    "    as_d = atk_success_dist(wep,target)\n",
    "\n",
    "    # Create res as weighted sum of repeated convolutions\n",
    "    res_d = dd_over_dd(an_d,as_d)\n",
    "\n",
    "    return res_d\n",
    "\n",
    "successful_atk_dist(wep,target)"
   ]
  },
  {
   "cell_type": "code",
   "execution_count": 43,
   "metadata": {},
   "outputs": [
    {
     "name": "stdout",
     "output_type": "stream",
     "text": [
      "2.0\n"
     ]
    },
    {
     "data": {
      "text/plain": [
       "defaultdict(<function __main__.add_ddist.<locals>.<lambda>()>,\n",
       "            {0: 0.2699209967594906,\n",
       "             2: 0.34351933435811594,\n",
       "             3: 0.22277107890686815,\n",
       "             5: 0.10863300510364438,\n",
       "             6: 0.040420313885146164,\n",
       "             8: 0.01149922904581617,\n",
       "             9: 0.002695692207539147,\n",
       "             11: 0.0004741072091473397,\n",
       "             12: 6.03280131400058e-05,\n",
       "             14: 5.914511092157429e-06})"
      ]
     },
     "execution_count": 43,
     "metadata": {},
     "output_type": "execute_result"
    }
   ],
   "source": [
    "# Final end-to-end calculation for a weapon\n",
    "def dam_dist(wep,target):\n",
    "\n",
    "    # Successful attack dist\n",
    "    sa_d = successful_atk_dist(wep,target)\n",
    "\n",
    "    # Single damage dist\n",
    "    # TODO: Melta + halving and reducing damage added here\n",
    "    sd_d = single_dam_dist(wep['damage'],target['wounds'])\n",
    "\n",
    "    # Create res as weighted sum of repeated convolutions\n",
    "    res_d = dd_over_dd(sa_d,sd_d,n_wounds=target['wounds'])\n",
    "\n",
    "    return res_d\n",
    "\n",
    "dam_dist(wep,target)"
   ]
  },
  {
   "cell_type": "code",
   "execution_count": null,
   "metadata": {},
   "outputs": [],
   "source": []
  }
 ],
 "metadata": {
  "kernelspec": {
   "display_name": "salk",
   "language": "python",
   "name": "python3"
  },
  "language_info": {
   "codemirror_mode": {
    "name": "ipython",
    "version": 3
   },
   "file_extension": ".py",
   "mimetype": "text/x-python",
   "name": "python",
   "nbconvert_exporter": "python",
   "pygments_lexer": "ipython3",
   "version": "3.12.2"
  }
 },
 "nbformat": 4,
 "nbformat_minor": 2
}
