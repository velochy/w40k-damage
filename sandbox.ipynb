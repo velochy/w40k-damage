{
 "cells": [
  {
   "cell_type": "code",
   "execution_count": 36,
   "metadata": {},
   "outputs": [],
   "source": [
    "import numpy\n",
    "from collections import defaultdict\n",
    "from math import ceil, floor, comb"
   ]
  },
  {
   "cell_type": "code",
   "execution_count": 11,
   "metadata": {},
   "outputs": [],
   "source": [
    "wep = { 'attacks': '3', 'bsws': 3, 'strength': 5, 'AP': -2, 'damage': '2', 'lh':True, 'dw':True }\n",
    "target = { 'toughness': 3, 'save': 2, 'invuln': 4, 'wounds': 3, 'fnp': 5 }"
   ]
  },
  {
   "cell_type": "code",
   "execution_count": null,
   "metadata": {},
   "outputs": [],
   "source": [
    "def dam_prob(wep,target,crit_hit=None):\n",
    "\n",
    "    # TODO:\n",
    "    # Cover / Ignores cover\n",
    "\n",
    "    # Prob to hit\n",
    "    if wep.get('torrent'):\n",
    "        p_hcrit, p_hit = 0, 1\n",
    "    else:\n",
    "        hit_crit = 6 # crit on 6, but can be on 5+\n",
    "        p_hcrit = (7-hit_crit)/6.0\n",
    "        p_hit = max((6*p_hcrit),min(5, # hit_crit always hits, 1 always misses\n",
    "                    (7-wep['bsws'])))/6.0\n",
    "        \n",
    "    # Check if fn parameter already tells us if it was a crit or not\n",
    "    # This behavior is needed for Sustained hits as they also affect hit counts\n",
    "    if crit_hit: p_hcrit,p_hit = 1,1\n",
    "    elif crit_hit==False: p_hcrit,p_hit = 0, p_hit-p_hcrit\n",
    "\n",
    "    print(\"Hit\",p_hit,p_hcrit)\n",
    "\n",
    "    # Prob to wound\n",
    "\n",
    "    wound_crit = 6 # Anti-keywords change this\n",
    "    p_wcrit = (7-wound_crit)/6.0\n",
    "\n",
    "    if wep['strength']>target['toughness']:\n",
    "        if wep['strength']>=2*target['toughness']:\n",
    "            p_wound = 5/6.0\n",
    "        else: p_wound = 4/6.0\n",
    "    elif wep['strength']<target['toughness']:\n",
    "        if 2*wep['strength']<=target['toughness']:\n",
    "            p_wound = 1/6.0\n",
    "        else: p_wound = 2/6.0\n",
    "    else: p_wound = 3/6.0\n",
    "\n",
    "    p_wound = max(p_wcrit,p_wound)\n",
    "    \n",
    "    print(\"Wound\",p_wound,p_wcrit)\n",
    "\n",
    "    # Prob to not save\n",
    "    save = min(target['invuln'],target['save']-wep['AP'])\n",
    "    p_nsave = 1.0 - max(1,min(6,7-save))/6.0\n",
    "\n",
    "    if wep.get('dw'): # Devastating wounds\n",
    "        p_nsave = ((p_wound-p_wcrit)*p_nsave + p_wcrit)/p_wound\n",
    "\n",
    "    print(\"Save\",p_nsave)\n",
    "\n",
    "    # Total probability\n",
    "    if wep.get('lh'):\n",
    "        p_dam = p_hcrit*p_nsave + (p_hit-p_hcrit)*p_wound*p_nsave\n",
    "    else:\n",
    "        p_dam = p_hit*p_wound*p_nsave\n",
    "\n",
    "    print(\"Total prob\", p_dam)\n",
    "\n",
    "    return p_dam"
   ]
  },
  {
   "cell_type": "code",
   "execution_count": 54,
   "metadata": {},
   "outputs": [],
   "source": [
    "# Helper functions for damage distributions\n",
    "\n",
    "def convolve(d1,d2):\n",
    "    res = defaultdict(lambda: 0)\n",
    "    for k1,v1 in d1.items():\n",
    "        for k2,v2 in d2.items():\n",
    "            res[k1+k2] += v1*v2 \n",
    "    return res\n",
    "\n",
    "def mult_ddist_vals(d, val):\n",
    "    res = defaultdict(lambda: 0)\n",
    "    for k1,v1 in d.items():\n",
    "        res[int(ceil(k1*val))] += v1 \n",
    "    return res\n",
    "\n",
    "def mult_ddist_probs(d,p):\n",
    "    return { k:v*p for k,v in d.items() }\n",
    "\n",
    "def threshold_ddist(dd,val,lt=True):\n",
    "    for k in list(dd.keys()): \n",
    "        if (lt and k<val) or (not lt and k>val): \n",
    "            dd[val]+=dd[k]\n",
    "            del dd[k]\n",
    "    \n",
    "def flatdist(n):\n",
    "    return { (i+1):1/n for i in range(n) }\n",
    "\n",
    "# q is the probability of saving the damage\n",
    "def fnp_transform(d, q):\n",
    "    p = 1.0-q\n",
    "    res = defaultdict(lambda: 0)\n",
    "    for k,v in d.items():\n",
    "        for i in range(k+1): # Binomial distribution\n",
    "            res[i] += v*comb(k,i)*(p**i)*(q**(k-i))\n",
    "    return res\n",
    "\n",
    "def dd_mean(dd):\n",
    "    val = 0.0\n",
    "    for k, v in dd.items():\n",
    "        val += k*v\n",
    "    return val\n"
   ]
  },
  {
   "cell_type": "code",
   "execution_count": 70,
   "metadata": {},
   "outputs": [
    {
     "name": "stdout",
     "output_type": "stream",
     "text": [
      "1.2178819444444444\n"
     ]
    },
    {
     "data": {
      "text/plain": [
       "defaultdict(<function __main__.fnp_transform.<locals>.<lambda>()>,\n",
       "            {0: 0.19878472222222224,\n",
       "             1: 0.3845486111111111,\n",
       "             2: 0.4166666666666667})"
      ]
     },
     "execution_count": 70,
     "metadata": {},
     "output_type": "execute_result"
    }
   ],
   "source": [
    "def dam_dist(dmgstr, n_wounds=None, div=1,mult=1,add=0,fnp=None):\n",
    "\n",
    "    # Create dmgstr distribution\n",
    "    dd = { 0: 1.0 }\n",
    "    for t in dmgstr.split('+'):\n",
    "        if 'D' in t:\n",
    "            d = t.split('D')\n",
    "            if d[0]=='': d = [1,int(d[1])]\n",
    "            else: d = list(map(int,d))\n",
    "            for _ in range(d[0]):\n",
    "                nd = flatdist(d[1])\n",
    "                dd = convolve(dd,nd)\n",
    "        else:\n",
    "            d = int(t)\n",
    "            dd = convolve(dd,{d:1.0})\n",
    "\n",
    "    # Apply simple modifiers\n",
    "    if div!=1: dd = mult_ddist_vals(dd,1.0/div)\n",
    "    if mult!=1: dd = mult_ddist_probs(dd,mult)\n",
    "    if add!=0: dd = convolve(dd,{add:1.0})\n",
    "\n",
    "    # Threshold to 1\n",
    "    threshold_ddist(dd,1,True)\n",
    "\n",
    "    # Apply FNP\n",
    "    if fnp: dd = fnp_transform(dd,(7-fnp)/6)\n",
    "\n",
    "    # Threshold to n_wounds\n",
    "    if n_wounds: threshold_ddist(dd,n_wounds,False)\n",
    "\n",
    "    print(dd_mean(dd))\n",
    "\n",
    "    return dd\n",
    "    \n",
    "dam_dist('2D6+2',n_wounds=2,div=2, add=-2,fnp=4)#None)"
   ]
  },
  {
   "cell_type": "code",
   "execution_count": null,
   "metadata": {},
   "outputs": [],
   "source": []
  }
 ],
 "metadata": {
  "kernelspec": {
   "display_name": "salk",
   "language": "python",
   "name": "python3"
  },
  "language_info": {
   "codemirror_mode": {
    "name": "ipython",
    "version": 3
   },
   "file_extension": ".py",
   "mimetype": "text/x-python",
   "name": "python",
   "nbconvert_exporter": "python",
   "pygments_lexer": "ipython3",
   "version": "3.12.2"
  }
 },
 "nbformat": 4,
 "nbformat_minor": 2
}
